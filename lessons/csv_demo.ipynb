{
 "cells": [
  {
   "cell_type": "markdown",
   "metadata": {},
   "source": [
    "# Working with CSV Data\n",
    "\n",
    "Comma-separated value files are commonly used for sharing tables of data between systems.\n",
    "\n",
    "Programs like Microsoft Excel, Google Sheets, as well as popular data base systems can produce CSV files as exports and programs, such as the one we will write today, have libraries for reading and processing data in from CSV files."
   ]
  },
  {
   "cell_type": "code",
   "execution_count": 3,
   "metadata": {},
   "outputs": [
    {
     "name": "stderr",
     "output_type": "stream",
     "text": [
      "UsageError: Line magic function `%relod_ext` not found.\n"
     ]
    }
   ],
   "source": [
    "%relod_ext autoreload\n",
    "%autoreload 2\n",
    "print(\"Autoreload of imported modules enabled. Besure to save your modules!\")"
   ]
  },
  {
   "cell_type": "markdown",
   "metadata": {},
   "source": [
    "## Importing Utility Functions\n",
    "\n",
    "Our helper functions will be located in `lessons/data_utils.py` and we will import the functions in the code cell below."
   ]
  },
  {
   "cell_type": "code",
   "execution_count": 2,
   "metadata": {},
   "outputs": [
    {
     "ename": "ImportError",
     "evalue": "cannot import name 'read_csv_row' from 'data_utils' (/Users/sofia/comp110-22f-workspace/lessons/data_utils.py)",
     "output_type": "error",
     "traceback": [
      "\u001b[0;31m---------------------------------------------------------------------------\u001b[0m",
      "\u001b[0;31mImportError\u001b[0m                               Traceback (most recent call last)",
      "Cell \u001b[0;32mIn [2], line 1\u001b[0m\n\u001b[0;32m----> 1\u001b[0m \u001b[38;5;28;01mfrom\u001b[39;00m \u001b[38;5;21;01mdata_utils\u001b[39;00m \u001b[38;5;28;01mimport\u001b[39;00m read_csv_row\n\u001b[1;32m      3\u001b[0m data_file: \u001b[38;5;28mstr\u001b[39m \u001b[38;5;241m=\u001b[39m \u001b[38;5;124m\"\u001b[39m\u001b[38;5;124m../\u001b[39m\u001b[38;5;124m\"\u001b[39m\n",
      "\u001b[0;31mImportError\u001b[0m: cannot import name 'read_csv_row' from 'data_utils' (/Users/sofia/comp110-22f-workspace/lessons/data_utils.py)"
     ]
    }
   ],
   "source": [
    "from data_utils import read_csv_row\n",
    "\n",
    "data_file: str = \"../.vscode/data/weather.csv\"\n",
    "data_table: list[dict[str,str]] = read_csv_rows(data_file)\n",
    "data_table"
   ]
  },
  {
   "cell_type": "markdown",
   "metadata": {},
   "source": [
    "## Selecting the values of a single column with `column_values`"
   ]
  },
  {
   "cell_type": "code",
   "execution_count": 5,
   "metadata": {},
   "outputs": [
    {
     "ename": "ImportError",
     "evalue": "cannot import name 'column_values' from 'data_utils' (/Users/sofia/comp110-22f-workspace/lessons/data_utils.py)",
     "output_type": "error",
     "traceback": [
      "\u001b[0;31m---------------------------------------------------------------------------\u001b[0m",
      "\u001b[0;31mImportError\u001b[0m                               Traceback (most recent call last)",
      "Cell \u001b[0;32mIn [5], line 1\u001b[0m\n\u001b[0;32m----> 1\u001b[0m \u001b[38;5;28;01mfrom\u001b[39;00m \u001b[38;5;21;01mdata_utils\u001b[39;00m \u001b[38;5;28;01mimport\u001b[39;00m column_values\n\u001b[1;32m      2\u001b[0m dates: \u001b[38;5;28mlist\u001b[39m[\u001b[38;5;28mstr\u001b[39m] \u001b[38;5;241m=\u001b[39m column_values(data_table, \u001b[38;5;124m\"\u001b[39m\u001b[38;5;124mdate\u001b[39m\u001b[38;5;124m\"\u001b[39m)\n\u001b[1;32m      3\u001b[0m dates\n",
      "\u001b[0;31mImportError\u001b[0m: cannot import name 'column_values' from 'data_utils' (/Users/sofia/comp110-22f-workspace/lessons/data_utils.py)"
     ]
    }
   ],
   "source": [
    "from data_utils import column_values\n",
    "dates: list[str] = column_values(data_table, \"date\")\n",
    "dates"
   ]
  },
  {
   "cell_type": "markdown",
   "metadata": {},
   "source": [
    "## Convert a row-oriented \"table\" to a column oriented \"table\""
   ]
  },
  {
   "cell_type": "code",
   "execution_count": 6,
   "metadata": {},
   "outputs": [
    {
     "ename": "ImportError",
     "evalue": "cannot import name 'columnar' from 'data_utils' (/Users/sofia/comp110-22f-workspace/lessons/data_utils.py)",
     "output_type": "error",
     "traceback": [
      "\u001b[0;31m---------------------------------------------------------------------------\u001b[0m",
      "\u001b[0;31mImportError\u001b[0m                               Traceback (most recent call last)",
      "Cell \u001b[0;32mIn [6], line 1\u001b[0m\n\u001b[0;32m----> 1\u001b[0m \u001b[38;5;28;01mfrom\u001b[39;00m \u001b[38;5;21;01mdata_utils\u001b[39;00m \u001b[38;5;28;01mimport\u001b[39;00m columnar\n\u001b[1;32m      3\u001b[0m column_table: \u001b[38;5;28mdict\u001b[39m[\u001b[38;5;28mstr\u001b[39m, \u001b[38;5;28mlist\u001b[39m[\u001b[38;5;28mstr\u001b[39m]] \u001b[38;5;241m=\u001b[39m columnar(data_table)\n\u001b[1;32m      4\u001b[0m column_table\n",
      "\u001b[0;31mImportError\u001b[0m: cannot import name 'columnar' from 'data_utils' (/Users/sofia/comp110-22f-workspace/lessons/data_utils.py)"
     ]
    }
   ],
   "source": [
    "from data_utils import columnar\n",
    "\n",
    "column_table: dict[str, list[str]] = columnar(data_table)\n",
    "column_table"
   ]
  }
 ],
 "metadata": {
  "kernelspec": {
   "display_name": "Python 3.10.6 64-bit",
   "language": "python",
   "name": "python3"
  },
  "language_info": {
   "codemirror_mode": {
    "name": "ipython",
    "version": 3
   },
   "file_extension": ".py",
   "mimetype": "text/x-python",
   "name": "python",
   "nbconvert_exporter": "python",
   "pygments_lexer": "ipython3",
   "version": "3.10.6"
  },
  "orig_nbformat": 4,
  "vscode": {
   "interpreter": {
    "hash": "aee8b7b246df8f9039afb4144a1f6fd8d2ca17a180786b69acc140d282b71a49"
   }
  }
 },
 "nbformat": 4,
 "nbformat_minor": 2
}
